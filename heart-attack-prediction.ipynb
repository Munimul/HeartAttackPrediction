{
 "cells": [
  {
   "cell_type": "code",
   "execution_count": 1,
   "id": "aging-westminster",
   "metadata": {
    "_cell_guid": "b1076dfc-b9ad-4769-8c92-a6c4dae69d19",
    "_uuid": "8f2839f25d086af736a60e9eeb907d3b93b6e0e5",
    "execution": {
     "iopub.execute_input": "2021-04-08T16:55:27.507674Z",
     "iopub.status.busy": "2021-04-08T16:55:27.506846Z",
     "iopub.status.idle": "2021-04-08T16:55:28.527380Z",
     "shell.execute_reply": "2021-04-08T16:55:28.526320Z"
    },
    "papermill": {
     "duration": 1.053545,
     "end_time": "2021-04-08T16:55:28.527593",
     "exception": false,
     "start_time": "2021-04-08T16:55:27.474048",
     "status": "completed"
    },
    "tags": []
   },
   "outputs": [],
   "source": [
    "# Importing necessary Library\n",
    "import numpy as np\n",
    "import pandas as pd\n",
    "import matplotlib.pyplot as plt\n",
    "import seaborn as sns\n",
    "sns.set_style('whitegrid')\n",
    "%matplotlib inline"
   ]
  },
  {
   "cell_type": "code",
   "execution_count": 2,
   "id": "scenic-skating",
   "metadata": {
    "execution": {
     "iopub.execute_input": "2021-04-08T16:55:28.582016Z",
     "iopub.status.busy": "2021-04-08T16:55:28.581353Z",
     "iopub.status.idle": "2021-04-08T16:55:28.602980Z",
     "shell.execute_reply": "2021-04-08T16:55:28.602422Z"
    },
    "papermill": {
     "duration": 0.051058,
     "end_time": "2021-04-08T16:55:28.603129",
     "exception": false,
     "start_time": "2021-04-08T16:55:28.552071",
     "status": "completed"
    },
    "tags": []
   },
   "outputs": [],
   "source": [
    "#Importing input data\n",
    "train=pd.read_csv('../input/heart-attack-analysis-prediction-dataset/heart.csv')\n",
    "df_train=pd.DataFrame(train)"
   ]
  },
  {
   "cell_type": "markdown",
   "id": "northern-addition",
   "metadata": {
    "papermill": {
     "duration": 0.025176,
     "end_time": "2021-04-08T16:55:28.651926",
     "exception": false,
     "start_time": "2021-04-08T16:55:28.626750",
     "status": "completed"
    },
    "tags": []
   },
   "source": [
    "# Overview of the dataset"
   ]
  },
  {
   "cell_type": "code",
   "execution_count": 3,
   "id": "champion-orange",
   "metadata": {
    "execution": {
     "iopub.execute_input": "2021-04-08T16:55:28.719823Z",
     "iopub.status.busy": "2021-04-08T16:55:28.718869Z",
     "iopub.status.idle": "2021-04-08T16:55:28.730468Z",
     "shell.execute_reply": "2021-04-08T16:55:28.729731Z"
    },
    "papermill": {
     "duration": 0.0472,
     "end_time": "2021-04-08T16:55:28.730627",
     "exception": false,
     "start_time": "2021-04-08T16:55:28.683427",
     "status": "completed"
    },
    "tags": []
   },
   "outputs": [
    {
     "data": {
      "text/plain": [
       "(303, 14)"
      ]
     },
     "execution_count": 3,
     "metadata": {},
     "output_type": "execute_result"
    }
   ],
   "source": [
    "df_train.shape"
   ]
  },
  {
   "cell_type": "code",
   "execution_count": 4,
   "id": "simple-stocks",
   "metadata": {
    "execution": {
     "iopub.execute_input": "2021-04-08T16:55:28.802101Z",
     "iopub.status.busy": "2021-04-08T16:55:28.801304Z",
     "iopub.status.idle": "2021-04-08T16:55:28.825894Z",
     "shell.execute_reply": "2021-04-08T16:55:28.825231Z"
    },
    "papermill": {
     "duration": 0.066535,
     "end_time": "2021-04-08T16:55:28.826037",
     "exception": false,
     "start_time": "2021-04-08T16:55:28.759502",
     "status": "completed"
    },
    "tags": []
   },
   "outputs": [
    {
     "data": {
      "text/html": [
       "<div>\n",
       "<style scoped>\n",
       "    .dataframe tbody tr th:only-of-type {\n",
       "        vertical-align: middle;\n",
       "    }\n",
       "\n",
       "    .dataframe tbody tr th {\n",
       "        vertical-align: top;\n",
       "    }\n",
       "\n",
       "    .dataframe thead th {\n",
       "        text-align: right;\n",
       "    }\n",
       "</style>\n",
       "<table border=\"1\" class=\"dataframe\">\n",
       "  <thead>\n",
       "    <tr style=\"text-align: right;\">\n",
       "      <th></th>\n",
       "      <th>age</th>\n",
       "      <th>sex</th>\n",
       "      <th>cp</th>\n",
       "      <th>trtbps</th>\n",
       "      <th>chol</th>\n",
       "      <th>fbs</th>\n",
       "      <th>restecg</th>\n",
       "      <th>thalachh</th>\n",
       "      <th>exng</th>\n",
       "      <th>oldpeak</th>\n",
       "      <th>slp</th>\n",
       "      <th>caa</th>\n",
       "      <th>thall</th>\n",
       "      <th>output</th>\n",
       "    </tr>\n",
       "  </thead>\n",
       "  <tbody>\n",
       "    <tr>\n",
       "      <th>0</th>\n",
       "      <td>63</td>\n",
       "      <td>1</td>\n",
       "      <td>3</td>\n",
       "      <td>145</td>\n",
       "      <td>233</td>\n",
       "      <td>1</td>\n",
       "      <td>0</td>\n",
       "      <td>150</td>\n",
       "      <td>0</td>\n",
       "      <td>2.3</td>\n",
       "      <td>0</td>\n",
       "      <td>0</td>\n",
       "      <td>1</td>\n",
       "      <td>1</td>\n",
       "    </tr>\n",
       "    <tr>\n",
       "      <th>1</th>\n",
       "      <td>37</td>\n",
       "      <td>1</td>\n",
       "      <td>2</td>\n",
       "      <td>130</td>\n",
       "      <td>250</td>\n",
       "      <td>0</td>\n",
       "      <td>1</td>\n",
       "      <td>187</td>\n",
       "      <td>0</td>\n",
       "      <td>3.5</td>\n",
       "      <td>0</td>\n",
       "      <td>0</td>\n",
       "      <td>2</td>\n",
       "      <td>1</td>\n",
       "    </tr>\n",
       "    <tr>\n",
       "      <th>2</th>\n",
       "      <td>41</td>\n",
       "      <td>0</td>\n",
       "      <td>1</td>\n",
       "      <td>130</td>\n",
       "      <td>204</td>\n",
       "      <td>0</td>\n",
       "      <td>0</td>\n",
       "      <td>172</td>\n",
       "      <td>0</td>\n",
       "      <td>1.4</td>\n",
       "      <td>2</td>\n",
       "      <td>0</td>\n",
       "      <td>2</td>\n",
       "      <td>1</td>\n",
       "    </tr>\n",
       "    <tr>\n",
       "      <th>3</th>\n",
       "      <td>56</td>\n",
       "      <td>1</td>\n",
       "      <td>1</td>\n",
       "      <td>120</td>\n",
       "      <td>236</td>\n",
       "      <td>0</td>\n",
       "      <td>1</td>\n",
       "      <td>178</td>\n",
       "      <td>0</td>\n",
       "      <td>0.8</td>\n",
       "      <td>2</td>\n",
       "      <td>0</td>\n",
       "      <td>2</td>\n",
       "      <td>1</td>\n",
       "    </tr>\n",
       "    <tr>\n",
       "      <th>4</th>\n",
       "      <td>57</td>\n",
       "      <td>0</td>\n",
       "      <td>0</td>\n",
       "      <td>120</td>\n",
       "      <td>354</td>\n",
       "      <td>0</td>\n",
       "      <td>1</td>\n",
       "      <td>163</td>\n",
       "      <td>1</td>\n",
       "      <td>0.6</td>\n",
       "      <td>2</td>\n",
       "      <td>0</td>\n",
       "      <td>2</td>\n",
       "      <td>1</td>\n",
       "    </tr>\n",
       "  </tbody>\n",
       "</table>\n",
       "</div>"
      ],
      "text/plain": [
       "   age  sex  cp  trtbps  chol  fbs  restecg  thalachh  exng  oldpeak  slp  \\\n",
       "0   63    1   3     145   233    1        0       150     0      2.3    0   \n",
       "1   37    1   2     130   250    0        1       187     0      3.5    0   \n",
       "2   41    0   1     130   204    0        0       172     0      1.4    2   \n",
       "3   56    1   1     120   236    0        1       178     0      0.8    2   \n",
       "4   57    0   0     120   354    0        1       163     1      0.6    2   \n",
       "\n",
       "   caa  thall  output  \n",
       "0    0      1       1  \n",
       "1    0      2       1  \n",
       "2    0      2       1  \n",
       "3    0      2       1  \n",
       "4    0      2       1  "
      ]
     },
     "execution_count": 4,
     "metadata": {},
     "output_type": "execute_result"
    }
   ],
   "source": [
    "df_train.head()"
   ]
  },
  {
   "cell_type": "markdown",
   "id": "continent-blackjack",
   "metadata": {
    "papermill": {
     "duration": 0.024401,
     "end_time": "2021-04-08T16:55:28.875282",
     "exception": false,
     "start_time": "2021-04-08T16:55:28.850881",
     "status": "completed"
    },
    "tags": []
   },
   "source": [
    "** Dataset Description:** \n",
    "* age : Age of the patient \n",
    "* sex : Sex of the patient \n",
    "* cp : Chest Pain \n",
    "* trtbps : resting blood pressure (in mm Hg) \n",
    "* chol : cholestoral in mg/dl \n",
    "* fbs : fasting blood sugar \n",
    "* restecg : resting electrocardiographic results \n",
    "* thalachh : Maximum heart rate exang: exercise induced angina \n",
    "* oldpeak : Previous peak slp : Slope caa: number of major vessels \n",
    "* output : 0= less chance of heart attack 1= more chance of heart attack"
   ]
  },
  {
   "cell_type": "code",
   "execution_count": 5,
   "id": "everyday-ghana",
   "metadata": {
    "execution": {
     "iopub.execute_input": "2021-04-08T16:55:28.948650Z",
     "iopub.status.busy": "2021-04-08T16:55:28.947663Z",
     "iopub.status.idle": "2021-04-08T16:55:28.953027Z",
     "shell.execute_reply": "2021-04-08T16:55:28.952294Z"
    },
    "papermill": {
     "duration": 0.053009,
     "end_time": "2021-04-08T16:55:28.953189",
     "exception": false,
     "start_time": "2021-04-08T16:55:28.900180",
     "status": "completed"
    },
    "tags": []
   },
   "outputs": [
    {
     "name": "stdout",
     "output_type": "stream",
     "text": [
      "<class 'pandas.core.frame.DataFrame'>\n",
      "RangeIndex: 303 entries, 0 to 302\n",
      "Data columns (total 14 columns):\n",
      " #   Column    Non-Null Count  Dtype  \n",
      "---  ------    --------------  -----  \n",
      " 0   age       303 non-null    int64  \n",
      " 1   sex       303 non-null    int64  \n",
      " 2   cp        303 non-null    int64  \n",
      " 3   trtbps    303 non-null    int64  \n",
      " 4   chol      303 non-null    int64  \n",
      " 5   fbs       303 non-null    int64  \n",
      " 6   restecg   303 non-null    int64  \n",
      " 7   thalachh  303 non-null    int64  \n",
      " 8   exng      303 non-null    int64  \n",
      " 9   oldpeak   303 non-null    float64\n",
      " 10  slp       303 non-null    int64  \n",
      " 11  caa       303 non-null    int64  \n",
      " 12  thall     303 non-null    int64  \n",
      " 13  output    303 non-null    int64  \n",
      "dtypes: float64(1), int64(13)\n",
      "memory usage: 33.3 KB\n"
     ]
    }
   ],
   "source": [
    "df_train.info()"
   ]
  },
  {
   "cell_type": "code",
   "execution_count": 6,
   "id": "egyptian-reading",
   "metadata": {
    "execution": {
     "iopub.execute_input": "2021-04-08T16:55:29.013421Z",
     "iopub.status.busy": "2021-04-08T16:55:29.012368Z",
     "iopub.status.idle": "2021-04-08T16:55:29.024480Z",
     "shell.execute_reply": "2021-04-08T16:55:29.023588Z"
    },
    "papermill": {
     "duration": 0.046236,
     "end_time": "2021-04-08T16:55:29.024664",
     "exception": false,
     "start_time": "2021-04-08T16:55:28.978428",
     "status": "completed"
    },
    "tags": []
   },
   "outputs": [
    {
     "name": "stdout",
     "output_type": "stream",
     "text": [
      "total unique values for age column is: 41\n",
      "total unique values for sex column is: 2\n",
      "total unique values for cp column is: 4\n",
      "total unique values for trtbps column is: 49\n",
      "total unique values for chol column is: 152\n",
      "total unique values for fbs column is: 2\n",
      "total unique values for restecg column is: 3\n",
      "total unique values for thalachh column is: 91\n",
      "total unique values for exng column is: 2\n",
      "total unique values for oldpeak column is: 40\n",
      "total unique values for slp column is: 3\n",
      "total unique values for caa column is: 5\n",
      "total unique values for thall column is: 4\n",
      "total unique values for output column is: 2\n"
     ]
    }
   ],
   "source": [
    "for i in df_train.columns:\n",
    "    print(f'total unique values for {i} column is: {df_train[i].value_counts().count()}')"
   ]
  },
  {
   "cell_type": "markdown",
   "id": "advance-defensive",
   "metadata": {
    "papermill": {
     "duration": 0.025863,
     "end_time": "2021-04-08T16:55:29.076321",
     "exception": false,
     "start_time": "2021-04-08T16:55:29.050458",
     "status": "completed"
    },
    "tags": []
   },
   "source": [
    "**We can divide the column into categorical and numerical valued columns from above information**"
   ]
  },
  {
   "cell_type": "code",
   "execution_count": 7,
   "id": "numeric-bunch",
   "metadata": {
    "execution": {
     "iopub.execute_input": "2021-04-08T16:55:29.134150Z",
     "iopub.status.busy": "2021-04-08T16:55:29.133191Z",
     "iopub.status.idle": "2021-04-08T16:55:29.135870Z",
     "shell.execute_reply": "2021-04-08T16:55:29.136453Z"
    },
    "papermill": {
     "duration": 0.034661,
     "end_time": "2021-04-08T16:55:29.136657",
     "exception": false,
     "start_time": "2021-04-08T16:55:29.101996",
     "status": "completed"
    },
    "tags": []
   },
   "outputs": [],
   "source": [
    "cat=['thall','caa','slp','exng','restecg','fbs','cp','sex']\n",
    "num=['age','thalachh','chol','trtbps']"
   ]
  },
  {
   "cell_type": "code",
   "execution_count": 8,
   "id": "increased-stranger",
   "metadata": {
    "execution": {
     "iopub.execute_input": "2021-04-08T16:55:29.199036Z",
     "iopub.status.busy": "2021-04-08T16:55:29.197958Z",
     "iopub.status.idle": "2021-04-08T16:55:30.388968Z",
     "shell.execute_reply": "2021-04-08T16:55:30.389491Z"
    },
    "papermill": {
     "duration": 1.226894,
     "end_time": "2021-04-08T16:55:30.389668",
     "exception": false,
     "start_time": "2021-04-08T16:55:29.162774",
     "status": "completed"
    },
    "tags": []
   },
   "outputs": [
    {
     "data": {
      "text/plain": [
       "Text(0.5, 1.0, 'Correlation between Columns')"
      ]
     },
     "execution_count": 8,
     "metadata": {},
     "output_type": "execute_result"
    },
    {
     "data": {
      "image/png": "[encoded data removed]",
      "text/plain": [
       "<Figure size 864x432 with 2 Axes>"
      ]
     },
     "metadata": {
      "needs_background": "light"
     },
     "output_type": "display_data"
    }
   ],
   "source": [
    "plt.figure(figsize=(12,6))\n",
    "sns.heatmap(df_train.corr(),annot=True,cmap='Blues')\n",
    "plt.title('Correlation between Columns')"
   ]
  },
  {
   "cell_type": "code",
   "execution_count": 9,
   "id": "about-respect",
   "metadata": {
    "execution": {
     "iopub.execute_input": "2021-04-08T16:55:30.455064Z",
     "iopub.status.busy": "2021-04-08T16:55:30.454046Z",
     "iopub.status.idle": "2021-04-08T16:55:30.459668Z",
     "shell.execute_reply": "2021-04-08T16:55:30.460154Z"
    },
    "papermill": {
     "duration": 0.039973,
     "end_time": "2021-04-08T16:55:30.460370",
     "exception": false,
     "start_time": "2021-04-08T16:55:30.420397",
     "status": "completed"
    },
    "tags": []
   },
   "outputs": [],
   "source": [
    "# Simple function for ploting the graphs\n",
    "def ploting_graph(cat):\n",
    "    for i in cat:\n",
    "        plt.figure(figsize=(8,5))\n",
    "        sns.barplot(x=i,y='output',data=df_train)\n",
    "        plt.title(f'{i} vs Output')"
   ]
  },
  {
   "cell_type": "code",
   "execution_count": 10,
   "id": "southern-climb",
   "metadata": {
    "execution": {
     "iopub.execute_input": "2021-04-08T16:55:30.524355Z",
     "iopub.status.busy": "2021-04-08T16:55:30.523367Z",
     "iopub.status.idle": "2021-04-08T16:55:32.540195Z",
     "shell.execute_reply": "2021-04-08T16:55:32.540928Z"
    },
    "papermill": {
     "duration": 2.050955,
     "end_time": "2021-04-08T16:55:32.541138",
     "exception": false,
     "start_time": "2021-04-08T16:55:30.490183",
     "status": "completed"
    },
    "tags": []
   },
   "outputs": [
    {
     "data": {
      "image/png": "[encoded data removed]",
      "text/plain": [
       "<Figure size 576x360 with 1 Axes>"
      ]
     },
     "metadata": {
      "needs_background": "light"
     },
     "output_type": "display_data"
    },
    {
     "data": {
      "image/png": "[encoded data removed]",
      "text/plain": [
       "<Figure size 576x360 with 1 Axes>"
      ]
     },
     "metadata": {
      "needs_background": "light"
     },
     "output_type": "display_data"
    },
    {
     "data": {
      "image/png": "[encoded data removed]",
      "text/plain": [
       "<Figure size 576x360 with 1 Axes>"
      ]
     },
     "metadata": {
      "needs_background": "light"
     },
     "output_type": "display_data"
    },
    {
     "data": {
      "image/png": "[encoded data removed]",
      "text/plain": [
       "<Figure size 576x360 with 1 Axes>"
      ]
     },
     "metadata": {
      "needs_background": "light"
     },
     "output_type": "display_data"
    },
    {
     "data": {
      "image/png": "[encoded data removed]",
      "text/plain": [
       "<Figure size 576x360 with 1 Axes>"
      ]
     },
     "metadata": {
      "needs_background": "light"
     },
     "output_type": "display_data"
    },
    {
     "data": {
      "image/png": "[encoded data removed]",
      "text/plain": [
       "<Figure size 576x360 with 1 Axes>"
      ]
     },
     "metadata": {
      "needs_background": "light"
     },
     "output_type": "display_data"
    },
    {
     "data": {
      "image/png": "[encoded data removed]",
      "text/plain": [
       "<Figure size 576x360 with 1 Axes>"
      ]
     },
     "metadata": {
      "needs_background": "light"
     },
     "output_type": "display_data"
    },
    {
     "data": {
      "image/png": "[encoded data removed]",
      "text/plain": [
       "<Figure size 576x360 with 1 Axes>"
      ]
     },
     "metadata": {
      "needs_background": "light"
     },
     "output_type": "display_data"
    }
   ],
   "source": [
    "ploting_graph(cat)"
   ]
  },
  {
   "cell_type": "markdown",
   "id": "generic-cooling",
   "metadata": {
    "papermill": {
     "duration": 0.037137,
     "end_time": "2021-04-08T16:55:32.614495",
     "exception": false,
     "start_time": "2021-04-08T16:55:32.577358",
     "status": "completed"
    },
    "tags": []
   },
   "source": [
    "**From the above graphs we can say that the fbs column which is fasting blood sugar does not really give us clear indication of the heart attack. We will drop this column in our training set.**"
   ]
  },
  {
   "cell_type": "markdown",
   "id": "associate-disease",
   "metadata": {
    "papermill": {
     "duration": 0.035964,
     "end_time": "2021-04-08T16:55:32.686493",
     "exception": false,
     "start_time": "2021-04-08T16:55:32.650529",
     "status": "completed"
    },
    "tags": []
   },
   "source": [
    "# Label Encoding: binning_column"
   ]
  },
  {
   "cell_type": "code",
   "execution_count": 11,
   "id": "spread-campbell",
   "metadata": {
    "execution": {
     "iopub.execute_input": "2021-04-08T16:55:32.761679Z",
     "iopub.status.busy": "2021-04-08T16:55:32.760996Z",
     "iopub.status.idle": "2021-04-08T16:55:32.954952Z",
     "shell.execute_reply": "2021-04-08T16:55:32.954231Z"
    },
    "papermill": {
     "duration": 0.232481,
     "end_time": "2021-04-08T16:55:32.955111",
     "exception": false,
     "start_time": "2021-04-08T16:55:32.722630",
     "status": "completed"
    },
    "tags": []
   },
   "outputs": [],
   "source": [
    "from sklearn.preprocessing import LabelEncoder\n",
    "le=LabelEncoder()"
   ]
  },
  {
   "cell_type": "code",
   "execution_count": 12,
   "id": "lightweight-disclaimer",
   "metadata": {
    "execution": {
     "iopub.execute_input": "2021-04-08T16:55:33.068448Z",
     "iopub.status.busy": "2021-04-08T16:55:33.066115Z",
     "iopub.status.idle": "2021-04-08T16:55:33.072080Z",
     "shell.execute_reply": "2021-04-08T16:55:33.072606Z"
    },
    "papermill": {
     "duration": 0.080703,
     "end_time": "2021-04-08T16:55:33.072793",
     "exception": false,
     "start_time": "2021-04-08T16:55:32.992090",
     "status": "completed"
    },
    "tags": []
   },
   "outputs": [],
   "source": [
    "for i in num:\n",
    "    df_train[i]=pd.cut(df_train[i].astype(int),4)\n",
    "    df_train[i]=le.fit_transform(df_train[i])"
   ]
  },
  {
   "cell_type": "markdown",
   "id": "upper-divorce",
   "metadata": {
    "papermill": {
     "duration": 0.035587,
     "end_time": "2021-04-08T16:55:33.144244",
     "exception": false,
     "start_time": "2021-04-08T16:55:33.108657",
     "status": "completed"
    },
    "tags": []
   },
   "source": [
    "**We are adding two columns 'chol' and 'trtbps' to create a new column named 'bpchol'**"
   ]
  },
  {
   "cell_type": "code",
   "execution_count": 13,
   "id": "adverse-alloy",
   "metadata": {
    "execution": {
     "iopub.execute_input": "2021-04-08T16:55:33.222477Z",
     "iopub.status.busy": "2021-04-08T16:55:33.221628Z",
     "iopub.status.idle": "2021-04-08T16:55:33.244381Z",
     "shell.execute_reply": "2021-04-08T16:55:33.243335Z"
    },
    "papermill": {
     "duration": 0.064139,
     "end_time": "2021-04-08T16:55:33.244574",
     "exception": false,
     "start_time": "2021-04-08T16:55:33.180435",
     "status": "completed"
    },
    "tags": []
   },
   "outputs": [],
   "source": [
    "df_train['bpchol']=df_train['chol']+df_train['trtbps']"
   ]
  },
  {
   "cell_type": "markdown",
   "id": "proved-netscape",
   "metadata": {
    "papermill": {
     "duration": 0.035751,
     "end_time": "2021-04-08T16:55:33.316367",
     "exception": false,
     "start_time": "2021-04-08T16:55:33.280616",
     "status": "completed"
    },
    "tags": []
   },
   "source": [
    "**We are droping four columns including 'output' column. 'chol' and 'trtbps' columns are dropped because we have a new column with their values. The reason for dropping 'fbs' has already been discussed.**"
   ]
  },
  {
   "cell_type": "code",
   "execution_count": 14,
   "id": "dental-dealer",
   "metadata": {
    "execution": {
     "iopub.execute_input": "2021-04-08T16:55:33.393300Z",
     "iopub.status.busy": "2021-04-08T16:55:33.392622Z",
     "iopub.status.idle": "2021-04-08T16:55:33.396165Z",
     "shell.execute_reply": "2021-04-08T16:55:33.395565Z"
    },
    "papermill": {
     "duration": 0.044396,
     "end_time": "2021-04-08T16:55:33.396340",
     "exception": false,
     "start_time": "2021-04-08T16:55:33.351944",
     "status": "completed"
    },
    "tags": []
   },
   "outputs": [],
   "source": [
    "drop_column=['chol','trtbps','fbs','output']"
   ]
  },
  {
   "cell_type": "code",
   "execution_count": 15,
   "id": "generic-alpha",
   "metadata": {
    "execution": {
     "iopub.execute_input": "2021-04-08T16:55:33.478389Z",
     "iopub.status.busy": "2021-04-08T16:55:33.477366Z",
     "iopub.status.idle": "2021-04-08T16:55:34.778023Z",
     "shell.execute_reply": "2021-04-08T16:55:34.778566Z"
    },
    "papermill": {
     "duration": 1.346694,
     "end_time": "2021-04-08T16:55:34.778830",
     "exception": false,
     "start_time": "2021-04-08T16:55:33.432136",
     "status": "completed"
    },
    "tags": []
   },
   "outputs": [
    {
     "data": {
      "image/png": "[encoded data removed]",
      "text/plain": [
       "<Figure size 576x360 with 1 Axes>"
      ]
     },
     "metadata": {
      "needs_background": "light"
     },
     "output_type": "display_data"
    },
    {
     "data": {
      "image/png": "[encoded data removed]",
      "text/plain": [
       "<Figure size 576x360 with 1 Axes>"
      ]
     },
     "metadata": {
      "needs_background": "light"
     },
     "output_type": "display_data"
    },
    {
     "data": {
      "image/png": "[encoded data removed]",
      "text/plain": [
       "<Figure size 576x360 with 1 Axes>"
      ]
     },
     "metadata": {
      "needs_background": "light"
     },
     "output_type": "display_data"
    },
    {
     "data": {
      "image/png": "[encoded data removed]",
      "text/plain": [
       "<Figure size 576x360 with 1 Axes>"
      ]
     },
     "metadata": {
      "needs_background": "light"
     },
     "output_type": "display_data"
    }
   ],
   "source": [
    "# Plotting graphs after binning and label-encoding those numerical columns\n",
    "ploting_graph(num)"
   ]
  },
  {
   "cell_type": "markdown",
   "id": "intended-village",
   "metadata": {
    "papermill": {
     "duration": 0.0397,
     "end_time": "2021-04-08T16:55:34.858561",
     "exception": false,
     "start_time": "2021-04-08T16:55:34.818861",
     "status": "completed"
    },
    "tags": []
   },
   "source": [
    "**Splitting 'output' column(which we will be predicting) from the dataset.**"
   ]
  },
  {
   "cell_type": "code",
   "execution_count": 16,
   "id": "adjustable-defensive",
   "metadata": {
    "execution": {
     "iopub.execute_input": "2021-04-08T16:55:34.943580Z",
     "iopub.status.busy": "2021-04-08T16:55:34.942842Z",
     "iopub.status.idle": "2021-04-08T16:55:34.946018Z",
     "shell.execute_reply": "2021-04-08T16:55:34.945395Z"
    },
    "papermill": {
     "duration": 0.04866,
     "end_time": "2021-04-08T16:55:34.946180",
     "exception": false,
     "start_time": "2021-04-08T16:55:34.897520",
     "status": "completed"
    },
    "tags": []
   },
   "outputs": [],
   "source": [
    "df_y=df_train['output']\n",
    "df_train.drop(drop_column,axis=1,inplace=True)"
   ]
  },
  {
   "cell_type": "code",
   "execution_count": 17,
   "id": "legal-female",
   "metadata": {
    "execution": {
     "iopub.execute_input": "2021-04-08T16:55:35.030602Z",
     "iopub.status.busy": "2021-04-08T16:55:35.029896Z",
     "iopub.status.idle": "2021-04-08T16:55:35.044389Z",
     "shell.execute_reply": "2021-04-08T16:55:35.044954Z"
    },
    "papermill": {
     "duration": 0.05804,
     "end_time": "2021-04-08T16:55:35.045137",
     "exception": false,
     "start_time": "2021-04-08T16:55:34.987097",
     "status": "completed"
    },
    "tags": []
   },
   "outputs": [
    {
     "data": {
      "text/html": [
       "<div>\n",
       "<style scoped>\n",
       "    .dataframe tbody tr th:only-of-type {\n",
       "        vertical-align: middle;\n",
       "    }\n",
       "\n",
       "    .dataframe tbody tr th {\n",
       "        vertical-align: top;\n",
       "    }\n",
       "\n",
       "    .dataframe thead th {\n",
       "        text-align: right;\n",
       "    }\n",
       "</style>\n",
       "<table border=\"1\" class=\"dataframe\">\n",
       "  <thead>\n",
       "    <tr style=\"text-align: right;\">\n",
       "      <th></th>\n",
       "      <th>age</th>\n",
       "      <th>sex</th>\n",
       "      <th>cp</th>\n",
       "      <th>restecg</th>\n",
       "      <th>thalachh</th>\n",
       "      <th>exng</th>\n",
       "      <th>oldpeak</th>\n",
       "      <th>slp</th>\n",
       "      <th>caa</th>\n",
       "      <th>thall</th>\n",
       "      <th>bpchol</th>\n",
       "    </tr>\n",
       "  </thead>\n",
       "  <tbody>\n",
       "    <tr>\n",
       "      <th>0</th>\n",
       "      <td>2</td>\n",
       "      <td>1</td>\n",
       "      <td>3</td>\n",
       "      <td>0</td>\n",
       "      <td>2</td>\n",
       "      <td>0</td>\n",
       "      <td>2.3</td>\n",
       "      <td>0</td>\n",
       "      <td>0</td>\n",
       "      <td>1</td>\n",
       "      <td>1</td>\n",
       "    </tr>\n",
       "    <tr>\n",
       "      <th>1</th>\n",
       "      <td>0</td>\n",
       "      <td>1</td>\n",
       "      <td>2</td>\n",
       "      <td>1</td>\n",
       "      <td>3</td>\n",
       "      <td>0</td>\n",
       "      <td>3.5</td>\n",
       "      <td>0</td>\n",
       "      <td>0</td>\n",
       "      <td>2</td>\n",
       "      <td>2</td>\n",
       "    </tr>\n",
       "    <tr>\n",
       "      <th>2</th>\n",
       "      <td>0</td>\n",
       "      <td>0</td>\n",
       "      <td>1</td>\n",
       "      <td>0</td>\n",
       "      <td>3</td>\n",
       "      <td>0</td>\n",
       "      <td>1.4</td>\n",
       "      <td>2</td>\n",
       "      <td>0</td>\n",
       "      <td>2</td>\n",
       "      <td>1</td>\n",
       "    </tr>\n",
       "    <tr>\n",
       "      <th>3</th>\n",
       "      <td>2</td>\n",
       "      <td>1</td>\n",
       "      <td>1</td>\n",
       "      <td>1</td>\n",
       "      <td>3</td>\n",
       "      <td>0</td>\n",
       "      <td>0.8</td>\n",
       "      <td>2</td>\n",
       "      <td>0</td>\n",
       "      <td>2</td>\n",
       "      <td>1</td>\n",
       "    </tr>\n",
       "    <tr>\n",
       "      <th>4</th>\n",
       "      <td>2</td>\n",
       "      <td>0</td>\n",
       "      <td>0</td>\n",
       "      <td>1</td>\n",
       "      <td>2</td>\n",
       "      <td>1</td>\n",
       "      <td>0.6</td>\n",
       "      <td>2</td>\n",
       "      <td>0</td>\n",
       "      <td>2</td>\n",
       "      <td>2</td>\n",
       "    </tr>\n",
       "  </tbody>\n",
       "</table>\n",
       "</div>"
      ],
      "text/plain": [
       "   age  sex  cp  restecg  thalachh  exng  oldpeak  slp  caa  thall  bpchol\n",
       "0    2    1   3        0         2     0      2.3    0    0      1       1\n",
       "1    0    1   2        1         3     0      3.5    0    0      2       2\n",
       "2    0    0   1        0         3     0      1.4    2    0      2       1\n",
       "3    2    1   1        1         3     0      0.8    2    0      2       1\n",
       "4    2    0   0        1         2     1      0.6    2    0      2       2"
      ]
     },
     "execution_count": 17,
     "metadata": {},
     "output_type": "execute_result"
    }
   ],
   "source": [
    "df_train.head()"
   ]
  },
  {
   "cell_type": "markdown",
   "id": "plastic-ceiling",
   "metadata": {
    "papermill": {
     "duration": 0.04081,
     "end_time": "2021-04-08T16:55:35.126140",
     "exception": false,
     "start_time": "2021-04-08T16:55:35.085330",
     "status": "completed"
    },
    "tags": []
   },
   "source": [
    "# Training Model\n",
    "**Importing libraries for Model creating, testing and predicting**"
   ]
  },
  {
   "cell_type": "code",
   "execution_count": 18,
   "id": "velvet-romania",
   "metadata": {
    "execution": {
     "iopub.execute_input": "2021-04-08T16:55:35.211076Z",
     "iopub.status.busy": "2021-04-08T16:55:35.210379Z",
     "iopub.status.idle": "2021-04-08T16:55:35.541081Z",
     "shell.execute_reply": "2021-04-08T16:55:35.540354Z"
    },
    "papermill": {
     "duration": 0.374279,
     "end_time": "2021-04-08T16:55:35.541266",
     "exception": false,
     "start_time": "2021-04-08T16:55:35.166987",
     "status": "completed"
    },
    "tags": []
   },
   "outputs": [],
   "source": [
    "from sklearn.preprocessing import StandardScaler\n",
    "from sklearn.model_selection import cross_val_score, GridSearchCV,train_test_split\n",
    "from sklearn.neighbors import KNeighborsClassifier\n",
    "from sklearn.linear_model import LogisticRegression\n",
    "from sklearn.metrics import classification_report,plot_confusion_matrix\n",
    "from sklearn.tree import DecisionTreeClassifier\n",
    "from sklearn.ensemble import RandomForestClassifier\n",
    "from sklearn.svm import SVC"
   ]
  },
  {
   "cell_type": "markdown",
   "id": "angry-spell",
   "metadata": {
    "papermill": {
     "duration": 0.040556,
     "end_time": "2021-04-08T16:55:35.622058",
     "exception": false,
     "start_time": "2021-04-08T16:55:35.581502",
     "status": "completed"
    },
    "tags": []
   },
   "source": [
    "**Standard Scaling all the columns before splitting into test and train sets.**"
   ]
  },
  {
   "cell_type": "code",
   "execution_count": 19,
   "id": "accurate-tongue",
   "metadata": {
    "execution": {
     "iopub.execute_input": "2021-04-08T16:55:35.714924Z",
     "iopub.status.busy": "2021-04-08T16:55:35.713972Z",
     "iopub.status.idle": "2021-04-08T16:55:35.717148Z",
     "shell.execute_reply": "2021-04-08T16:55:35.716512Z"
    },
    "papermill": {
     "duration": 0.054624,
     "end_time": "2021-04-08T16:55:35.717307",
     "exception": false,
     "start_time": "2021-04-08T16:55:35.662683",
     "status": "completed"
    },
    "tags": []
   },
   "outputs": [],
   "source": [
    "ss=StandardScaler()\n",
    "scale_train=ss.fit_transform(df_train)\n",
    "df_scaled_train=pd.DataFrame(scale_train,columns=df_train.columns)"
   ]
  },
  {
   "cell_type": "markdown",
   "id": "bibliographic-cliff",
   "metadata": {
    "papermill": {
     "duration": 0.039764,
     "end_time": "2021-04-08T16:55:35.797311",
     "exception": false,
     "start_time": "2021-04-08T16:55:35.757547",
     "status": "completed"
    },
    "tags": []
   },
   "source": [
    "**Splitting train and test sets. (80/20)**"
   ]
  },
  {
   "cell_type": "code",
   "execution_count": 20,
   "id": "prime-documentation",
   "metadata": {
    "execution": {
     "iopub.execute_input": "2021-04-08T16:55:35.886635Z",
     "iopub.status.busy": "2021-04-08T16:55:35.885819Z",
     "iopub.status.idle": "2021-04-08T16:55:35.889926Z",
     "shell.execute_reply": "2021-04-08T16:55:35.889331Z"
    },
    "papermill": {
     "duration": 0.052286,
     "end_time": "2021-04-08T16:55:35.890086",
     "exception": false,
     "start_time": "2021-04-08T16:55:35.837800",
     "status": "completed"
    },
    "tags": []
   },
   "outputs": [],
   "source": [
    "X_train, X_test, y_train, y_test=train_test_split(df_scaled_train, df_y, test_size=0.2, random_state=42)"
   ]
  },
  {
   "cell_type": "code",
   "execution_count": 21,
   "id": "streaming-australia",
   "metadata": {
    "execution": {
     "iopub.execute_input": "2021-04-08T16:55:35.978334Z",
     "iopub.status.busy": "2021-04-08T16:55:35.977419Z",
     "iopub.status.idle": "2021-04-08T16:55:35.982474Z",
     "shell.execute_reply": "2021-04-08T16:55:35.981821Z"
    },
    "papermill": {
     "duration": 0.050892,
     "end_time": "2021-04-08T16:55:35.982614",
     "exception": false,
     "start_time": "2021-04-08T16:55:35.931722",
     "status": "completed"
    },
    "tags": []
   },
   "outputs": [
    {
     "data": {
      "text/plain": [
       "(242, 11)"
      ]
     },
     "execution_count": 21,
     "metadata": {},
     "output_type": "execute_result"
    }
   ],
   "source": [
    "X_train.shape"
   ]
  },
  {
   "cell_type": "code",
   "execution_count": 22,
   "id": "distinguished-patch",
   "metadata": {
    "execution": {
     "iopub.execute_input": "2021-04-08T16:55:36.077060Z",
     "iopub.status.busy": "2021-04-08T16:55:36.076103Z",
     "iopub.status.idle": "2021-04-08T16:55:36.079808Z",
     "shell.execute_reply": "2021-04-08T16:55:36.079166Z"
    },
    "papermill": {
     "duration": 0.056438,
     "end_time": "2021-04-08T16:55:36.079946",
     "exception": false,
     "start_time": "2021-04-08T16:55:36.023508",
     "status": "completed"
    },
    "tags": []
   },
   "outputs": [],
   "source": [
    "#A dictionary of ML Models for cross-validating results of different algorithms.\n",
    "# This Dictonary is adapted from the link: https://www.kaggle.com/rashikrahmanpritom/heart-attack-prediction?rvi=1&scriptVersionId=57435788&cellId=14\n",
    "model_list = {  \n",
    "    'KNeighborsClassifier': { \n",
    "        'model': KNeighborsClassifier(),\n",
    "        'params': {\n",
    "            'n_neighbors': [2,3,4,5,6,7,18,19,20],\n",
    "            'algorithm' : ['auto','ball_tree'],\n",
    "            'weights' : ['uniform','distance'],\n",
    "            'leaf_size' : [27,28,29,30,31]\n",
    "        }\n",
    "    },\n",
    "    \n",
    "    'DecisionTreeClassifier': {\n",
    "        'model': DecisionTreeClassifier(),\n",
    "        'params': {\n",
    "            'criterion': ['gini','entropy'],\n",
    "            'max_depth' : [None,1,2,6,5]\n",
    "        }\n",
    "    },\n",
    "     \n",
    "    \n",
    "     'LOGISTIC_REGRESSION': {\n",
    "        'model': LogisticRegression(),\n",
    "        'params': {\n",
    "            'C': [1,2,3,4,5,6,7],\n",
    "            'solver' : [ 'liblinear', 'lbfgs'],\n",
    "            'multi_class' : ['auto', 'ovr' ]\n",
    "        }\n",
    "    },\n",
    "    \n",
    "        \n",
    "    'SVM': {\n",
    "        'model': SVC(),\n",
    "        'params': {\n",
    "             'C': [1,2,3,5,6,7],\n",
    "             'kernel': ['rbf','linear'],\n",
    "             'gamma': ['auto', 'scale']\n",
    "        }\n",
    "    },\n",
    "       \n",
    "    'RANDOM_FOREST':{\n",
    "        'model' : RandomForestClassifier(),\n",
    "        'params': {\n",
    "            'n_estimators':[1,2,3,4,5,10,15],\n",
    "            'criterion': ['entropy'],\n",
    "            'random_state' : [12,13],\n",
    "            'max_depth' : [5,6]\n",
    "\n",
    "        }\n",
    "    }\n",
    "}"
   ]
  },
  {
   "cell_type": "code",
   "execution_count": 23,
   "id": "coated-remark",
   "metadata": {
    "execution": {
     "iopub.execute_input": "2021-04-08T16:55:36.174934Z",
     "iopub.status.busy": "2021-04-08T16:55:36.169071Z",
     "iopub.status.idle": "2021-04-08T16:56:09.162170Z",
     "shell.execute_reply": "2021-04-08T16:56:09.162751Z"
    },
    "papermill": {
     "duration": 33.041768,
     "end_time": "2021-04-08T16:56:09.162940",
     "exception": false,
     "start_time": "2021-04-08T16:55:36.121172",
     "status": "completed"
    },
    "tags": []
   },
   "outputs": [
    {
     "name": "stdout",
     "output_type": "stream",
     "text": [
      "model_name: KNeighborsClassifier\n",
      "Best score:0.8308823529411764\n",
      "Best parameters:{'algorithm': 'auto', 'leaf_size': 27, 'n_neighbors': 19, 'weights': 'uniform'}\n",
      "\n",
      "\n",
      "model_name: DecisionTreeClassifier\n",
      "Best score:0.8026960784313726\n",
      "Best parameters:{'criterion': 'gini', 'max_depth': 5}\n",
      "\n",
      "\n",
      "model_name: LOGISTIC_REGRESSION\n",
      "Best score:0.8392156862745098\n",
      "Best parameters:{'C': 4, 'multi_class': 'auto', 'solver': 'liblinear'}\n",
      "\n",
      "\n",
      "model_name: SVM\n",
      "Best score:0.8514705882352941\n",
      "Best parameters:{'C': 1, 'gamma': 'auto', 'kernel': 'rbf'}\n",
      "\n",
      "\n",
      "model_name: RANDOM_FOREST\n",
      "Best score:0.8348039215686274\n",
      "Best parameters:{'criterion': 'entropy', 'max_depth': 6, 'n_estimators': 15, 'random_state': 13}\n",
      "\n",
      "\n"
     ]
    }
   ],
   "source": [
    "for model_name, mp in model_list.items():\n",
    "    print(f'model_name: {model_name}')\n",
    "    clf = GridSearchCV(mp['model'], mp['params'], cv=15)\n",
    "    clf.fit(X_train,y_train)\n",
    "    print(f'Best score:{clf.best_score_}')\n",
    "    print(f'Best parameters:{clf.best_params_}\\n\\n')"
   ]
  },
  {
   "cell_type": "markdown",
   "id": "flush-indonesian",
   "metadata": {
    "papermill": {
     "duration": 0.042463,
     "end_time": "2021-04-08T16:56:09.248321",
     "exception": false,
     "start_time": "2021-04-08T16:56:09.205858",
     "status": "completed"
    },
    "tags": []
   },
   "source": [
    "**As SVM shows most promising result. We will go and predict the output with this one.**"
   ]
  },
  {
   "cell_type": "code",
   "execution_count": 24,
   "id": "august-level",
   "metadata": {
    "execution": {
     "iopub.execute_input": "2021-04-08T16:56:09.342571Z",
     "iopub.status.busy": "2021-04-08T16:56:09.341579Z",
     "iopub.status.idle": "2021-04-08T16:56:09.356291Z",
     "shell.execute_reply": "2021-04-08T16:56:09.357451Z"
    },
    "papermill": {
     "duration": 0.066923,
     "end_time": "2021-04-08T16:56:09.357767",
     "exception": false,
     "start_time": "2021-04-08T16:56:09.290844",
     "status": "completed"
    },
    "tags": []
   },
   "outputs": [
    {
     "name": "stdout",
     "output_type": "stream",
     "text": [
      "              precision    recall  f1-score   support\n",
      "\n",
      "           0       0.89      0.86      0.88        29\n",
      "           1       0.88      0.91      0.89        32\n",
      "\n",
      "    accuracy                           0.89        61\n",
      "   macro avg       0.89      0.88      0.88        61\n",
      "weighted avg       0.89      0.89      0.89        61\n",
      "\n"
     ]
    }
   ],
   "source": [
    "svm=SVC(C=1, gamma='auto', kernel='rbf')\n",
    "svm.fit(X_train,y_train)\n",
    "predict=svm.predict(X_test)\n",
    "print(classification_report(y_test,predict))"
   ]
  },
  {
   "cell_type": "code",
   "execution_count": 25,
   "id": "humanitarian-teacher",
   "metadata": {
    "execution": {
     "iopub.execute_input": "2021-04-08T16:56:09.452845Z",
     "iopub.status.busy": "2021-04-08T16:56:09.451857Z",
     "iopub.status.idle": "2021-04-08T16:56:09.633914Z",
     "shell.execute_reply": "2021-04-08T16:56:09.634531Z"
    },
    "papermill": {
     "duration": 0.232379,
     "end_time": "2021-04-08T16:56:09.634727",
     "exception": false,
     "start_time": "2021-04-08T16:56:09.402348",
     "status": "completed"
    },
    "tags": []
   },
   "outputs": [
    {
     "data": {
      "image/png": "[encoded data removed]",
      "text/plain": [
       "<Figure size 432x288 with 2 Axes>"
      ]
     },
     "metadata": {
      "needs_background": "light"
     },
     "output_type": "display_data"
    }
   ],
   "source": [
    "plot_confusion_matrix(svm,X_test,y_test,cmap='viridis')\n",
    "plt.show()"
   ]
  },
  {
   "cell_type": "code",
   "execution_count": 26,
   "id": "charged-linux",
   "metadata": {
    "execution": {
     "iopub.execute_input": "2021-04-08T16:56:09.727644Z",
     "iopub.status.busy": "2021-04-08T16:56:09.726619Z",
     "iopub.status.idle": "2021-04-08T16:56:09.731482Z",
     "shell.execute_reply": "2021-04-08T16:56:09.731999Z"
    },
    "papermill": {
     "duration": 0.05284,
     "end_time": "2021-04-08T16:56:09.732192",
     "exception": false,
     "start_time": "2021-04-08T16:56:09.679352",
     "status": "completed"
    },
    "tags": []
   },
   "outputs": [],
   "source": [
    "# Thank you all for your patience. I am new to ML. Hope, this will help some beginners like me."
   ]
  }
 ],
 "metadata": {
  "kernelspec": {
   "display_name": "Python 3",
   "language": "python",
   "name": "python3"
  },
  "language_info": {
   "codemirror_mode": {
    "name": "ipython",
    "version": 3
   },
   "file_extension": ".py",
   "mimetype": "text/x-python",
   "name": "python",
   "nbconvert_exporter": "python",
   "pygments_lexer": "ipython3",
   "version": "3.7.9"
  },
  "papermill": {
   "default_parameters": {},
   "duration": 49.8612,
   "end_time": "2021-04-08T16:56:10.488049",
   "environment_variables": {},
   "exception": null,
   "input_path": "__notebook__.ipynb",
   "output_path": "__notebook__.ipynb",
   "parameters": {},
   "start_time": "2021-04-08T16:55:20.626849",
   "version": "2.3.2"
  }
 },
 "nbformat": 4,
 "nbformat_minor": 5
}
